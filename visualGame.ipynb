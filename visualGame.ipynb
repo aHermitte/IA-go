{
 "cells": [
  {
   "cell_type": "markdown",
   "metadata": {},
   "source": [
    "## Adaptation de namedGame à Jupyter\n",
    "\n",
    "Vous pouvez utiliser cette feuille pour visualiser un match.\n",
    "\n",
    "Pour charger vos joueurs, il faut changer leurs noms dans 'classNames' (ligne 13), comme dans 'namedGame.py'.\n",
    "\n",
    "Vous pouvez décommenter les lignes utilisant le librairie cairosvg pour générer un gif animé de votre match si vous le souhaitez (puis utilisez la ligne de commande donnée en commentaire pour transformer les PNG en GIF)."
   ]
  },
  {
   "cell_type": "code",
   "execution_count": 1,
   "metadata": {},
   "outputs": [
    {
     "name": "stdout",
     "output_type": "stream",
     "text": [
      "The game is setup with Kom playing BLACKS against Monte-Carlo Player playing WHITE\n",
      "Engines loaded. Ready to go.\n"
     ]
    }
   ],
   "source": [
    "\n",
    "import Goban \n",
    "import importlib\n",
    "import time\n",
    "from io import StringIO\n",
    "import sys\n",
    "from IPython.display import display, HTML, clear_output\n",
    "\n",
    "# Uncomment for saving the successive SVG to PNG\n",
    "# from cairosvg import svg2png\n",
    "\n",
    "# Define here the players to load\n",
    "classNames = ['kom', 'newMT']\n",
    "\n",
    "b = Goban.Board()\n",
    "\n",
    "players = []\n",
    "player1class = importlib.import_module(classNames[0])\n",
    "player1 = player1class.myPlayer()\n",
    "player1.newGame(Goban.Board._BLACK)\n",
    "players.append(player1)\n",
    "\n",
    "player2class = importlib.import_module(classNames[1])\n",
    "player2 = player2class.myPlayer()\n",
    "player2.newGame(Goban.Board._WHITE)\n",
    "players.append(player2)\n",
    "\n",
    "totalTime = [0,0] # total real time for each player\n",
    "nextplayer = 0\n",
    "nextplayercolor = Goban.Board._BLACK\n",
    "nbmoves = 1\n",
    "\n",
    "outputs = [\"\",\"\"]\n",
    "sysstdout= sys.stdout\n",
    "stringio = StringIO()\n",
    "wrongmovefrom = 0\n",
    "\n",
    "print(\"The game is setup with \" + player1.getPlayerName() + \" playing BLACKS against \" + player2.getPlayerName() + \" playing WHITE\")\n",
    "print(\"Engines loaded. Ready to go.\")\n"
   ]
  },
  {
   "cell_type": "code",
   "execution_count": 2,
   "metadata": {},
   "outputs": [
    {
     "data": {
      "text/html": [
       "<svg height=\"340\"  width=\"340\" > <svg height=\"20\" width=\"340\"><text x=\"35\" y=\"18\" font-size=\"24\" font-color=\"black\">A</text><text x=\"75\" y=\"18\" font-size=\"24\" font-color=\"black\">B</text><text x=\"115\" y=\"18\" font-size=\"24\" font-color=\"black\">C</text><text x=\"155\" y=\"18\" font-size=\"24\" font-color=\"black\">D</text><text x=\"195\" y=\"18\" font-size=\"24\" font-color=\"black\">E</text><text x=\"235\" y=\"18\" font-size=\"24\" font-color=\"black\">F</text><text x=\"275\" y=\"18\" font-size=\"24\" font-color=\"black\">G</text><text x=\"315\" y=\"18\" font-size=\"24\" font-color=\"black\">H</text></svg><svg width=\"20\" height=\"340\"><text y=\"47\" x=\"0\" font-size=\"24\" font-color=\"black\">9</text><text y=\"87\" x=\"0\" font-size=\"24\" font-color=\"black\">8</text><text y=\"127\" x=\"0\" font-size=\"24\" font-color=\"black\">7</text><text y=\"167\" x=\"0\" font-size=\"24\" font-color=\"black\">6</text><text y=\"207\" x=\"0\" font-size=\"24\" font-color=\"black\">5</text><text y=\"247\" x=\"0\" font-size=\"24\" font-color=\"black\">4</text><text y=\"287\" x=\"0\" font-size=\"24\" font-color=\"black\">3</text><text y=\"327\" x=\"0\" font-size=\"24\" font-color=\"black\">2</text></svg> <svg x=\"20\" y=\"20\" height=\"340\" width=\"340\" > <rect x=\"0\" y=\"0\" width=\"320\" height=\"320\" fill=\"#B4927A\" />        <line x1=\"20\" y1=\"20\" x2=\"20\" y2=\"300\" stroke-width=\"4\" stroke=\"black\"/>        <line x1=\"300\" y1=\"20\" x2=\"20\" y2=\"20\" stroke-width=\"4\" stroke=\"black\"/>        <line x1=\"300\" y1=\"300\" x2=\"300\" y2=\"20\" stroke-width=\"4\" stroke=\"black\"/>        <line x1=\"20\" y1=\"300\" x2=\"300\" y2=\"300\" stroke-width=\"4\" stroke=\"black\"/><line x1=\"166.66666666666666\" y1=\"180\" x2=\"193.33333333333334\" y2=\"180\" stroke-width=\"3\" stroke=\"black\" /><line x1=\"180\" y1=\"166.66666666666666\" x2=\"180\" y2=\"193.33333333333334\" stroke-width=\"3\" stroke=\"black\" /><line x1=\"86.66666666666667\" y1=\"100\" x2=\"113.33333333333333\" y2=\"100\" stroke-width=\"3\" stroke=\"black\" /><line x1=\"100\" y1=\"86.66666666666667\" x2=\"100\" y2=\"113.33333333333333\" stroke-width=\"3\" stroke=\"black\" /><line x1=\"246.66666666666666\" y1=\"260\" x2=\"273.3333333333333\" y2=\"260\" stroke-width=\"3\" stroke=\"black\" /><line x1=\"260\" y1=\"246.66666666666666\" x2=\"260\" y2=\"273.3333333333333\" stroke-width=\"3\" stroke=\"black\" /><line x1=\"86.66666666666667\" y1=\"260\" x2=\"113.33333333333333\" y2=\"260\" stroke-width=\"3\" stroke=\"black\" /><line x1=\"100\" y1=\"246.66666666666666\" x2=\"100\" y2=\"273.3333333333333\" stroke-width=\"3\" stroke=\"black\" /><line x1=\"246.66666666666666\" y1=\"100\" x2=\"273.3333333333333\" y2=\"100\" stroke-width=\"3\" stroke=\"black\" /><line x1=\"260\" y1=\"86.66666666666667\" x2=\"260\" y2=\"113.33333333333333\" stroke-width=\"3\" stroke=\"black\" /><line x1=\"60\" y1=\"20\" x2=\"60\" y2=\"300\" stroke-width=\"2\" stroke=\"#444444\"/><line y1=\"60\" x1=\"20\" y2=\"60\" x2=\"300\" stroke-width=\"2\" stroke=\"#444444\"/><line x1=\"100\" y1=\"20\" x2=\"100\" y2=\"300\" stroke-width=\"2\" stroke=\"#444444\"/><line y1=\"100\" x1=\"20\" y2=\"100\" x2=\"300\" stroke-width=\"2\" stroke=\"#444444\"/><line x1=\"140\" y1=\"20\" x2=\"140\" y2=\"300\" stroke-width=\"2\" stroke=\"#444444\"/><line y1=\"140\" x1=\"20\" y2=\"140\" x2=\"300\" stroke-width=\"2\" stroke=\"#444444\"/><line x1=\"180\" y1=\"20\" x2=\"180\" y2=\"300\" stroke-width=\"2\" stroke=\"#444444\"/><line y1=\"180\" x1=\"20\" y2=\"180\" x2=\"300\" stroke-width=\"2\" stroke=\"#444444\"/><line x1=\"220\" y1=\"20\" x2=\"220\" y2=\"300\" stroke-width=\"2\" stroke=\"#444444\"/><line y1=\"220\" x1=\"20\" y2=\"220\" x2=\"300\" stroke-width=\"2\" stroke=\"#444444\"/><line x1=\"260\" y1=\"20\" x2=\"260\" y2=\"300\" stroke-width=\"2\" stroke=\"#444444\"/><line y1=\"260\" x1=\"20\" y2=\"260\" x2=\"300\" stroke-width=\"2\" stroke=\"#444444\"/><circle cx=\"20\" cy=\"260\" r=\"16\" stroke=\"#333333\" stroke-width=\"3\" fill=\"black\" /><circle cx=\"20\" cy=\"220\" r=\"16\" stroke=\"#333333\" stroke-width=\"3\" fill=\"black\" /><circle cx=\"20\" cy=\"180\" r=\"16\" stroke=\"#333333\" stroke-width=\"3\" fill=\"black\" /><circle cx=\"20\" cy=\"140\" r=\"16\" stroke=\"#333333\" stroke-width=\"3\" fill=\"black\" /><circle cx=\"20\" cy=\"100\" r=\"16\" stroke=\"#333333\" stroke-width=\"3\" fill=\"white\" /><circle cx=\"20\" cy=\"20\" r=\"16\" stroke=\"#333333\" stroke-width=\"3\" fill=\"black\" /><circle cx=\"60\" cy=\"300\" r=\"16\" stroke=\"#333333\" stroke-width=\"3\" fill=\"white\" /><circle cx=\"60\" cy=\"260\" r=\"16\" stroke=\"#333333\" stroke-width=\"3\" fill=\"black\" /><circle cx=\"60\" cy=\"220\" r=\"16\" stroke=\"#333333\" stroke-width=\"3\" fill=\"white\" /><circle cx=\"60\" cy=\"180\" r=\"16\" stroke=\"#333333\" stroke-width=\"3\" fill=\"white\" /><circle cx=\"60\" cy=\"140\" r=\"16\" stroke=\"#333333\" stroke-width=\"3\" fill=\"white\" /><circle cx=\"60\" cy=\"100\" r=\"16\" stroke=\"#333333\" stroke-width=\"3\" fill=\"white\" /><circle cx=\"60\" cy=\"60\" r=\"16\" stroke=\"#333333\" stroke-width=\"3\" fill=\"black\" /><circle cx=\"60\" cy=\"20\" r=\"16\" stroke=\"#333333\" stroke-width=\"3\" fill=\"black\" /><circle cx=\"100\" cy=\"300\" r=\"16\" stroke=\"#333333\" stroke-width=\"3\" fill=\"white\" /><circle cx=\"100\" cy=\"260\" r=\"16\" stroke=\"#333333\" stroke-width=\"3\" fill=\"white\" /><circle cx=\"100\" cy=\"220\" r=\"16\" stroke=\"#333333\" stroke-width=\"3\" fill=\"white\" /><circle cx=\"100\" cy=\"180\" r=\"16\" stroke=\"#333333\" stroke-width=\"3\" fill=\"white\" /><circle cx=\"100\" cy=\"140\" r=\"16\" stroke=\"#333333\" stroke-width=\"3\" fill=\"white\" /><circle cx=\"100\" cy=\"100\" r=\"16\" stroke=\"#333333\" stroke-width=\"3\" fill=\"white\" /><circle cx=\"100\" cy=\"60\" r=\"16\" stroke=\"#333333\" stroke-width=\"3\" fill=\"black\" /><circle cx=\"100\" cy=\"20\" r=\"16\" stroke=\"#333333\" stroke-width=\"3\" fill=\"white\" /><circle cx=\"140\" cy=\"300\" r=\"16\" stroke=\"#333333\" stroke-width=\"3\" fill=\"black\" /><circle cx=\"140\" cy=\"220\" r=\"16\" stroke=\"#333333\" stroke-width=\"3\" fill=\"white\" /><circle cx=\"140\" cy=\"180\" r=\"16\" stroke=\"#333333\" stroke-width=\"3\" fill=\"white\" /><circle cx=\"140\" cy=\"140\" r=\"16\" stroke=\"#333333\" stroke-width=\"3\" fill=\"white\" /><circle cx=\"140\" cy=\"100\" r=\"16\" stroke=\"#333333\" stroke-width=\"3\" fill=\"white\" /><circle cx=\"140\" cy=\"60\" r=\"16\" stroke=\"#333333\" stroke-width=\"3\" fill=\"white\" /><circle cx=\"140\" cy=\"20\" r=\"16\" stroke=\"#333333\" stroke-width=\"3\" fill=\"white\" /><circle cx=\"180\" cy=\"300\" r=\"16\" stroke=\"#333333\" stroke-width=\"3\" fill=\"white\" /><circle cx=\"180\" cy=\"260\" r=\"16\" stroke=\"#333333\" stroke-width=\"3\" fill=\"white\" /><circle cx=\"180\" cy=\"220\" r=\"16\" stroke=\"#333333\" stroke-width=\"3\" fill=\"white\" /><circle cx=\"180\" cy=\"180\" r=\"16\" stroke=\"#333333\" stroke-width=\"3\" fill=\"white\" /><circle cx=\"180\" cy=\"140\" r=\"16\" stroke=\"#333333\" stroke-width=\"3\" fill=\"white\" /><circle cx=\"180\" cy=\"100\" r=\"16\" stroke=\"#333333\" stroke-width=\"3\" fill=\"white\" /><circle cx=\"180\" cy=\"60\" r=\"16\" stroke=\"#333333\" stroke-width=\"3\" fill=\"white\" /><circle cx=\"180\" cy=\"20\" r=\"16\" stroke=\"#333333\" stroke-width=\"3\" fill=\"white\" /><circle cx=\"220\" cy=\"300\" r=\"16\" stroke=\"#333333\" stroke-width=\"3\" fill=\"black\" /><circle cx=\"220\" cy=\"260\" r=\"16\" stroke=\"#333333\" stroke-width=\"3\" fill=\"white\" /><circle cx=\"220\" cy=\"220\" r=\"16\" stroke=\"#333333\" stroke-width=\"3\" fill=\"white\" /><circle cx=\"220\" cy=\"180\" r=\"16\" stroke=\"#333333\" stroke-width=\"3\" fill=\"white\" /><circle cx=\"220\" cy=\"140\" r=\"16\" stroke=\"#333333\" stroke-width=\"3\" fill=\"white\" /><circle cx=\"220\" cy=\"100\" r=\"16\" stroke=\"#333333\" stroke-width=\"3\" fill=\"white\" /><circle cx=\"220\" cy=\"60\" r=\"16\" stroke=\"#333333\" stroke-width=\"3\" fill=\"white\" /><circle cx=\"220\" cy=\"20\" r=\"16\" stroke=\"#333333\" stroke-width=\"3\" fill=\"white\" /><circle cx=\"260\" cy=\"260\" r=\"16\" stroke=\"#333333\" stroke-width=\"3\" fill=\"black\" /><circle cx=\"260\" cy=\"220\" r=\"16\" stroke=\"#333333\" stroke-width=\"3\" fill=\"black\" /><circle cx=\"260\" cy=\"180\" r=\"16\" stroke=\"#333333\" stroke-width=\"3\" fill=\"white\" /><circle cx=\"260\" cy=\"140\" r=\"16\" stroke=\"#333333\" stroke-width=\"3\" fill=\"white\" /><circle cx=\"260\" cy=\"100\" r=\"16\" stroke=\"#333333\" stroke-width=\"3\" fill=\"white\" /><circle cx=\"260\" cy=\"60\" r=\"16\" stroke=\"#333333\" stroke-width=\"3\" fill=\"white\" /><circle cx=\"300\" cy=\"300\" r=\"16\" stroke=\"#333333\" stroke-width=\"3\" fill=\"white\" /><circle cx=\"300\" cy=\"260\" r=\"16\" stroke=\"#333333\" stroke-width=\"3\" fill=\"white\" /><circle cx=\"300\" cy=\"220\" r=\"16\" stroke=\"#333333\" stroke-width=\"3\" fill=\"white\" /><circle cx=\"300\" cy=\"180\" r=\"16\" stroke=\"#333333\" stroke-width=\"3\" fill=\"white\" /><circle cx=\"300\" cy=\"140\" r=\"16\" stroke=\"#333333\" stroke-width=\"3\" fill=\"white\" /><circle cx=\"300\" cy=\"100\" r=\"16\" stroke=\"#333333\" stroke-width=\"3\" fill=\"white\" /><circle cx=\"300\" cy=\"60\" r=\"16\" stroke=\"#333333\" stroke-width=\"3\" fill=\"white\" /><circle cx=\"300\" cy=\"20\" r=\"16\" stroke=\"#333333\" stroke-width=\"3\" fill=\"white\" /></svg></svg>"
      ],
      "text/plain": [
       "<IPython.core.display.HTML object>"
      ]
     },
     "metadata": {},
     "output_type": "display_data"
    },
    {
     "name": "stdout",
     "output_type": "stream",
     "text": [
      "Legal Moves:  ['G1', 'A1', 'A7', 'D2', 'G8', 'PASS']\n",
      "looking for a move\n",
      "\n",
      "Player  2 Monte-Carlo Player plays: PASS\n",
      "Opponent played  PASS i.e.  PASS\n",
      "The game is over\n",
      ". O O X O X . O \n",
      "X X O . O O X O \n",
      "X O O O O O X O \n",
      "X O O O O O O O \n",
      "X O O O O O O O \n",
      "O O O O O O O O \n",
      ". X X O O O O O \n",
      "X X O O O O . O \n",
      "Next player: BLACK\n",
      "13 blacks and 46 whites on board\n",
      "\n",
      "Time: [1216.8778100013733, 154.196683883667]\n",
      "GO Score: W+34\n",
      "Winner: WHITE\n"
     ]
    }
   ],
   "source": [
    "coup = 1\n",
    "while not b.is_game_over():\n",
    "    print(\"Referee Board:\")\n",
    "    clear_output(wait=True)\n",
    "    display(HTML(b.svg()))\n",
    "    #Uncomment this for saving all the PNG images\n",
    "    #svg2png(bytestring=b.svg(),write_to='output-'+str(coup).zfill(4)+'.png')\n",
    "    legals = b.legal_moves() # legal moves are given as internal (flat) coordinates, not A1, A2, ...\n",
    "\n",
    "    print(\"Legal Moves: \", [b.move_to_str(m) for m in legals]) # I have to use this wrapper if I want to print them\n",
    "    nbmoves += 1\n",
    "    otherplayer = (nextplayer + 1) % 2\n",
    "    othercolor = Goban.Board.flip(nextplayercolor)\n",
    "    \n",
    "    currentTime = time.time()\n",
    "    sys.stdout = stringio\n",
    "    move = players[nextplayer].getPlayerMove() # The move must be given by \"A1\", ... \"J8\" string coordinates (not as an internal move)\n",
    "    sys.stdout = sysstdout\n",
    "    playeroutput = stringio.getvalue()\n",
    "    stringio.truncate(0)\n",
    "    stringio.seek(0)\n",
    "    print((\"[Player \"+str(nextplayer) + \"] \").join(playeroutput.splitlines(True)))\n",
    "    outputs[nextplayer] += playeroutput\n",
    "    totalTime[nextplayer] += time.time() - currentTime\n",
    "    print(\"Player \", nextplayercolor, players[nextplayer].getPlayerName(), \"plays: \" + move) #changed \n",
    "\n",
    "    if not Goban.Board.name_to_flat(move) in legals:\n",
    "        print(otherplayer, nextplayer, nextplayercolor)\n",
    "        print(\"Problem: illegal move\")\n",
    "        wrongmovefrom = nextplayercolor\n",
    "        break\n",
    "    b.push(Goban.Board.name_to_flat(move)) # Here I have to internally flatten the move to be able to check it.\n",
    "    players[otherplayer].playOpponentMove(move)\n",
    " \n",
    "    nextplayer = otherplayer\n",
    "    nextplayercolor = othercolor\n",
    "    time.sleep(0.1)\n",
    "    coup += 1\n",
    "\n",
    "print(\"The game is over\")\n",
    "b.prettyPrint()\n",
    "result = b.result()\n",
    "print(\"Time:\", totalTime)\n",
    "print(\"GO Score:\", b.final_go_score())\n",
    "print(\"Winner: \", end=\"\")\n",
    "if wrongmovefrom > 0:\n",
    "    if wrongmovefrom == b._WHITE:\n",
    "        print(\"BLACK\")\n",
    "    elif wrongmovefrom == b._BLACK:\n",
    "        print(\"WHITE\")\n",
    "    else:\n",
    "        print(\"ERROR\")\n",
    "elif result == \"1-0\":\n",
    "    print(\"WHITE\")\n",
    "elif result == \"0-1\":\n",
    "    print(\"BLACK\")\n",
    "else:\n",
    "    print(\"DEUCE\")\n",
    "\n",
    "# To convert png files to animated gif    \n",
    "# convert -delay 10 -loop 0 *.png -background white -alpha remove -alpha off output.gif\n",
    "\n"
   ]
  },
  {
   "cell_type": "code",
   "execution_count": null,
   "metadata": {},
   "outputs": [],
   "source": []
  }
 ],
 "metadata": {
  "kernelspec": {
   "display_name": "Python 3",
   "language": "python",
   "name": "python3"
  },
  "language_info": {
   "codemirror_mode": {
    "name": "ipython",
    "version": 3
   },
   "file_extension": ".py",
   "mimetype": "text/x-python",
   "name": "python",
   "nbconvert_exporter": "python",
   "pygments_lexer": "ipython3",
   "version": "3.11.9"
  }
 },
 "nbformat": 4,
 "nbformat_minor": 2
}
